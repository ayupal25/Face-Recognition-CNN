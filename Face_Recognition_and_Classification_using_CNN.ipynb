{
  "nbformat": 4,
  "nbformat_minor": 0,
  "metadata": {
    "colab": {
      "provenance": [],
      "mount_file_id": "1oZ3ipjierhZvD8W73HOhG0VX_kDVeNWL",
      "authorship_tag": "ABX9TyO8mtBVLQ2hU3TeJRs81fBR",
      "include_colab_link": true
    },
    "kernelspec": {
      "name": "python3",
      "display_name": "Python 3"
    },
    "language_info": {
      "name": "python"
    }
  },
  "cells": [
    {
      "cell_type": "markdown",
      "metadata": {
        "id": "view-in-github",
        "colab_type": "text"
      },
      "source": [
        "<a href=\"https://colab.research.google.com/github/ayupal25/Face-Recognition-CNN/blob/main/Face_Recognition_and_Classification_using_CNN.ipynb\" target=\"_parent\"><img src=\"https://colab.research.google.com/assets/colab-badge.svg\" alt=\"Open In Colab\"/></a>"
      ]
    },
    {
      "cell_type": "code",
      "execution_count": null,
      "metadata": {
        "id": "2xwZuU2TOaHx"
      },
      "outputs": [],
      "source": [
        "from keras.preprocessing.image import ImageDataGenerator\n",
        "import pickle\n",
        "from keras.models import Sequential\n",
        "from keras.layers import Convolution2D\n",
        "from keras.layers import MaxPool2D\n",
        "from keras.layers import Flatten\n",
        "from keras.layers import Dense\n",
        "import time\n",
        "import numpy as np\n",
        "import keras.utils as image"
      ]
    },
    {
      "cell_type": "code",
      "source": [
        "TrainingImagePath='/content/drive/MyDrive/DLFR/training_set'\n",
        "train_datagen = ImageDataGenerator(shear_range=0.1, zoom_range=0.1, horizontal_flip=True)\n",
        "test_datagen = ImageDataGenerator()\n",
        "training_set = train_datagen.flow_from_directory(TrainingImagePath, target_size=(64, 64), batch_size=32, class_mode='categorical')\n",
        "test_set = test_datagen.flow_from_directory(TrainingImagePath, target_size=(64, 64), batch_size=32, class_mode='categorical')\n",
        "test_set.class_indices"
      ],
      "metadata": {
        "colab": {
          "base_uri": "https://localhost:8080/"
        },
        "id": "twifUq-9fLVG",
        "outputId": "8a560315-d19f-4932-b061-45370dab8677"
      },
      "execution_count": null,
      "outputs": [
        {
          "output_type": "stream",
          "name": "stdout",
          "text": [
            "Found 45 images belonging to 3 classes.\n",
            "Found 45 images belonging to 3 classes.\n"
          ]
        },
        {
          "output_type": "execute_result",
          "data": {
            "text/plain": [
              "{'Face1': 0, 'Face2': 1, 'Face3': 2}"
            ]
          },
          "metadata": {},
          "execution_count": 2
        }
      ]
    },
    {
      "cell_type": "code",
      "source": [
        "TrainClasses=training_set.class_indices\n",
        "ResultMap={}\n",
        "for faceValue,faceName in zip(TrainClasses.values(),TrainClasses.keys()):\n",
        "    ResultMap[faceValue]=faceName\n",
        "\n",
        "with open(\"ResultsMap.pkl\", 'wb') as fileWriteStream:\n",
        "    pickle.dump(ResultMap, fileWriteStream)\n",
        "\n",
        "print(\"Mapping of Face and its ID\",ResultMap)\n",
        "OutputNeurons=len(ResultMap)\n",
        "print('\\n The Number of output neurons: ', OutputNeurons)"
      ],
      "metadata": {
        "colab": {
          "base_uri": "https://localhost:8080/"
        },
        "id": "fL5NgRm3rMOm",
        "outputId": "2d55dc39-1321-4a1c-a028-60642972c409"
      },
      "execution_count": null,
      "outputs": [
        {
          "output_type": "stream",
          "name": "stdout",
          "text": [
            "Mapping of Face and its ID {0: 'Face1', 1: 'Face2', 2: 'Face3'}\n",
            "\n",
            " The Number of output neurons:  3\n"
          ]
        }
      ]
    },
    {
      "cell_type": "code",
      "source": [
        "classifier= Sequential()\n",
        "classifier.add(Convolution2D(32, kernel_size=(5, 5), strides=(1, 1), input_shape=(64,64,3), activation='relu'))\n",
        "classifier.add(MaxPool2D(pool_size=(2,2)))\n",
        "classifier.add(Convolution2D(64, kernel_size=(5, 5), strides=(1, 1), activation='relu'))\n",
        "classifier.add(MaxPool2D(pool_size=(2,2)))\n",
        "classifier.add(Flatten())\n",
        "classifier.add(Dense(64, activation='relu'))\n",
        "classifier.add(Dense(OutputNeurons, activation='softmax'))\n",
        "classifier.compile(loss='categorical_crossentropy', optimizer = 'adam', metrics=[\"accuracy\"])\n"
      ],
      "metadata": {
        "id": "vd52IL3Ytmwj"
      },
      "execution_count": null,
      "outputs": []
    },
    {
      "cell_type": "code",
      "source": [
        "StartTime=time.time()\n",
        "classifier.fit(training_set, steps_per_epoch=1.4, epochs=3, validation_data=test_set, validation_steps=3)\n",
        "EndTime=time.time()\n",
        "print(\"Total Time Taken: \", round((EndTime-StartTime)/60), 'Minutes')"
      ],
      "metadata": {
        "colab": {
          "base_uri": "https://localhost:8080/"
        },
        "id": "cZVR7LYIutyo",
        "outputId": "062e559b-936b-4020-fa6b-df82c26f6c92"
      },
      "execution_count": null,
      "outputs": [
        {
          "output_type": "stream",
          "name": "stdout",
          "text": [
            "Epoch 1/3\n",
            "2/1 [==========================================] - ETA: 0s - loss: 0.5822 - accuracy: 0.7556"
          ]
        },
        {
          "output_type": "stream",
          "name": "stderr",
          "text": [
            "WARNING:tensorflow:Your input ran out of data; interrupting training. Make sure that your dataset or generator can generate at least `steps_per_epoch * epochs` batches (in this case, 3 batches). You may need to use the repeat() function when building your dataset.\n"
          ]
        },
        {
          "output_type": "stream",
          "name": "stdout",
          "text": [
            "\b\b\b\b\b\b\b\b\b\b\b\b\b\b\b\b\b\b\b\b\b\b\b\b\b\b\b\b\b\b\b\b\b\b\b\b\b\b\b\b\b\b\b\b\b\b\b\b\b\b\b\b\b\b\b\b\b\b\b\b\b\b\b\b\b\b\b\b\b\b\b\b\b\b\b\b\b\b\b\b\b\b\b\b\b\b\b\b\b\b\b\b\r1/1 [==============================] - 3s 4s/step - loss: 0.5822 - accuracy: 0.7556 - val_loss: 0.5167 - val_accuracy: 0.7556\n",
            "Epoch 2/3\n",
            "1/1 [==============================] - 2s 928ms/step - loss: 0.6790 - accuracy: 0.6667      \n",
            "Epoch 3/3\n",
            "1/1 [==============================] - 2s 3s/step - loss: 0.3521 - accuracy: 0.8889         \n",
            "Total Time Taken:  0 Minutes\n"
          ]
        }
      ]
    },
    {
      "cell_type": "code",
      "source": [
        "ImagePath='/content/drive/MyDrive/DLFR/testing_set/Face1/AP1.jpg'\n",
        "test_image=image.load_img(ImagePath,target_size=(64, 64))\n",
        "test_image=image.img_to_array(test_image)\n",
        "test_image=np.expand_dims(test_image,axis=0)\n",
        "result=classifier.predict(test_image,verbose=0)\n",
        "print('Prediction is: ',ResultMap[np.argmax(result)])"
      ],
      "metadata": {
        "colab": {
          "base_uri": "https://localhost:8080/"
        },
        "id": "TPq3ThVyz1HZ",
        "outputId": "f38b0ef0-ad93-40b7-da5f-f7080435f85e"
      },
      "execution_count": null,
      "outputs": [
        {
          "output_type": "stream",
          "name": "stdout",
          "text": [
            "Prediction is:  Face1\n"
          ]
        }
      ]
    }
  ]
}